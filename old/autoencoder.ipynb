{
 "cells": [
  {
   "cell_type": "code",
   "execution_count": 3,
   "metadata": {},
   "outputs": [
    {
     "name": "stdout",
     "output_type": "stream",
     "text": [
      "Reading files in directory:  ./capture/train/\n",
      "Number of files:  2100\n"
     ]
    }
   ],
   "source": [
    "#read directories inside a parent\n",
    "parent_dir = \"./capture/train/\"\n",
    "import os\n",
    "import pandas as pd\n",
    "\n",
    "#read all files in a directory\n",
    "def read_files_in_dir(dir):\n",
    "    files = os.listdir(dir)\n",
    "    files = [dir + file for file in files]\n",
    "    return files\n",
    "\n",
    "print(\"Reading files in directory: \", parent_dir)\n",
    "files = read_files_in_dir(parent_dir)\n",
    "print(\"Number of files: \", len(files))"
   ]
  },
  {
   "cell_type": "code",
   "execution_count": 21,
   "metadata": {},
   "outputs": [],
   "source": [
    "df = pd.DataFrame()\n",
    "data = []\n",
    "for file in files:\n",
    "    x = file.split('/')[-1].split('_')[0].split(\",\")[0][1:]\n",
    "    y = file.split('/')[-1].split('_')[0].split(\",\")[1][1:]\n",
    "    z = file.split('/')[-1].split('_')[0].split(\",\")[2][1:-1]\n",
    "    angle = file.split('/')[-1].split('_')[2].split(\".\")[0]\n",
    "    height = file.split('/')[-1].split('_')[1]\n",
    "    filename = file.split('/')[-1]\n",
    "    data.append({'x': x, 'y': y, 'z': z, 'angle': angle, 'height': height, 'filename':filename})\n",
    "\n",
    "df = pd.concat([df, pd.DataFrame(data)], axis=1)\n",
    "df.to_pickle(\"train.pkl\")"
   ]
  },
  {
   "cell_type": "code",
   "execution_count": 4,
   "metadata": {},
   "outputs": [
    {
     "data": {
      "text/html": [
       "<div>\n",
       "<style scoped>\n",
       "    .dataframe tbody tr th:only-of-type {\n",
       "        vertical-align: middle;\n",
       "    }\n",
       "\n",
       "    .dataframe tbody tr th {\n",
       "        vertical-align: top;\n",
       "    }\n",
       "\n",
       "    .dataframe thead th {\n",
       "        text-align: right;\n",
       "    }\n",
       "</style>\n",
       "<table border=\"1\" class=\"dataframe\">\n",
       "  <thead>\n",
       "    <tr style=\"text-align: right;\">\n",
       "      <th></th>\n",
       "      <th>x</th>\n",
       "      <th>y</th>\n",
       "      <th>z</th>\n",
       "      <th>angle</th>\n",
       "      <th>height</th>\n",
       "      <th>filename</th>\n",
       "    </tr>\n",
       "  </thead>\n",
       "  <tbody>\n",
       "    <tr>\n",
       "      <th>0</th>\n",
       "      <td>-1.55</td>\n",
       "      <td>0.00</td>\n",
       "      <td>-1.36</td>\n",
       "      <td>0</td>\n",
       "      <td>1.2</td>\n",
       "      <td>(-1.55, 0.00, -1.36)_1.2_0.png</td>\n",
       "    </tr>\n",
       "    <tr>\n",
       "      <th>1</th>\n",
       "      <td>-1.55</td>\n",
       "      <td>0.00</td>\n",
       "      <td>-1.36</td>\n",
       "      <td>120</td>\n",
       "      <td>1.2</td>\n",
       "      <td>(-1.55, 0.00, -1.36)_1.2_120.png</td>\n",
       "    </tr>\n",
       "    <tr>\n",
       "      <th>2</th>\n",
       "      <td>-1.55</td>\n",
       "      <td>0.00</td>\n",
       "      <td>-1.36</td>\n",
       "      <td>150</td>\n",
       "      <td>1.2</td>\n",
       "      <td>(-1.55, 0.00, -1.36)_1.2_150.png</td>\n",
       "    </tr>\n",
       "    <tr>\n",
       "      <th>3</th>\n",
       "      <td>-1.55</td>\n",
       "      <td>0.00</td>\n",
       "      <td>-1.36</td>\n",
       "      <td>180</td>\n",
       "      <td>1.2</td>\n",
       "      <td>(-1.55, 0.00, -1.36)_1.2_180.png</td>\n",
       "    </tr>\n",
       "    <tr>\n",
       "      <th>4</th>\n",
       "      <td>-1.55</td>\n",
       "      <td>0.00</td>\n",
       "      <td>-1.36</td>\n",
       "      <td>210</td>\n",
       "      <td>1.2</td>\n",
       "      <td>(-1.55, 0.00, -1.36)_1.2_210.png</td>\n",
       "    </tr>\n",
       "    <tr>\n",
       "      <th>...</th>\n",
       "      <td>...</td>\n",
       "      <td>...</td>\n",
       "      <td>...</td>\n",
       "      <td>...</td>\n",
       "      <td>...</td>\n",
       "      <td>...</td>\n",
       "    </tr>\n",
       "    <tr>\n",
       "      <th>2095</th>\n",
       "      <td>2.47</td>\n",
       "      <td>0.00</td>\n",
       "      <td>6.90</td>\n",
       "      <td>30</td>\n",
       "      <td>1</td>\n",
       "      <td>(2.47, 0.00, 6.90)_1_30.png</td>\n",
       "    </tr>\n",
       "    <tr>\n",
       "      <th>2096</th>\n",
       "      <td>2.47</td>\n",
       "      <td>0.00</td>\n",
       "      <td>6.90</td>\n",
       "      <td>300</td>\n",
       "      <td>1</td>\n",
       "      <td>(2.47, 0.00, 6.90)_1_300.png</td>\n",
       "    </tr>\n",
       "    <tr>\n",
       "      <th>2097</th>\n",
       "      <td>2.47</td>\n",
       "      <td>0.00</td>\n",
       "      <td>6.90</td>\n",
       "      <td>330</td>\n",
       "      <td>1</td>\n",
       "      <td>(2.47, 0.00, 6.90)_1_330.png</td>\n",
       "    </tr>\n",
       "    <tr>\n",
       "      <th>2098</th>\n",
       "      <td>2.47</td>\n",
       "      <td>0.00</td>\n",
       "      <td>6.90</td>\n",
       "      <td>60</td>\n",
       "      <td>1</td>\n",
       "      <td>(2.47, 0.00, 6.90)_1_60.png</td>\n",
       "    </tr>\n",
       "    <tr>\n",
       "      <th>2099</th>\n",
       "      <td>2.47</td>\n",
       "      <td>0.00</td>\n",
       "      <td>6.90</td>\n",
       "      <td>90</td>\n",
       "      <td>1</td>\n",
       "      <td>(2.47, 0.00, 6.90)_1_90.png</td>\n",
       "    </tr>\n",
       "  </tbody>\n",
       "</table>\n",
       "<p>2100 rows × 6 columns</p>\n",
       "</div>"
      ],
      "text/plain": [
       "          x     y      z angle height                          filename\n",
       "0     -1.55  0.00  -1.36     0    1.2    (-1.55, 0.00, -1.36)_1.2_0.png\n",
       "1     -1.55  0.00  -1.36   120    1.2  (-1.55, 0.00, -1.36)_1.2_120.png\n",
       "2     -1.55  0.00  -1.36   150    1.2  (-1.55, 0.00, -1.36)_1.2_150.png\n",
       "3     -1.55  0.00  -1.36   180    1.2  (-1.55, 0.00, -1.36)_1.2_180.png\n",
       "4     -1.55  0.00  -1.36   210    1.2  (-1.55, 0.00, -1.36)_1.2_210.png\n",
       "...     ...   ...    ...   ...    ...                               ...\n",
       "2095   2.47  0.00   6.90    30      1       (2.47, 0.00, 6.90)_1_30.png\n",
       "2096   2.47  0.00   6.90   300      1      (2.47, 0.00, 6.90)_1_300.png\n",
       "2097   2.47  0.00   6.90   330      1      (2.47, 0.00, 6.90)_1_330.png\n",
       "2098   2.47  0.00   6.90    60      1       (2.47, 0.00, 6.90)_1_60.png\n",
       "2099   2.47  0.00   6.90    90      1       (2.47, 0.00, 6.90)_1_90.png\n",
       "\n",
       "[2100 rows x 6 columns]"
      ]
     },
     "execution_count": 4,
     "metadata": {},
     "output_type": "execute_result"
    }
   ],
   "source": [
    "df = pd.read_pickle(\"train.pkl\")\n",
    "df"
   ]
  },
  {
   "cell_type": "code",
   "execution_count": 7,
   "metadata": {},
   "outputs": [],
   "source": [
    "import pandas as pd\n",
    "import os\n",
    "import numpy as np\n",
    "import torch\n",
    "import torch.nn as nn\n",
    "import torch.optim as optim\n",
    "from torch.utils.data import Dataset, DataLoader\n",
    "from torchvision import transforms, models\n",
    "from PIL import Image\n",
    "device = torch.device(\"cuda:1\" if torch.cuda.is_available() else \"cpu\")\n"
   ]
  },
  {
   "cell_type": "code",
   "execution_count": 8,
   "metadata": {},
   "outputs": [],
   "source": [
    "class CustomDataset(Dataset):\n",
    "    def __init__(self, dataframe, root_dir, transform=None):\n",
    "        \"\"\"\n",
    "        Args:\n",
    "            dataframe (pandas.DataFrame): DataFrame containing image paths and labels.\n",
    "            root_dir (string): Directory with all the images.\n",
    "            transform (callable, optional): Optional transform to be applied on a sample.\n",
    "        \"\"\"\n",
    "        self.dataframe = dataframe\n",
    "        self.root_dir = root_dir\n",
    "        self.transform = transform\n",
    "\n",
    "    def __len__(self):\n",
    "        return len(self.dataframe)\n",
    "\n",
    "    def __getitem__(self, idx):\n",
    "        img_name = os.path.join(self.root_dir, self.dataframe.iloc[idx, 5])\n",
    "        image = Image.open(img_name)\n",
    "        labels = self.dataframe.iloc[idx, [0,2]].astype('float').to_numpy()\n",
    "\n",
    "        if self.transform:\n",
    "            image = self.transform(image)\n",
    "\n",
    "        return image, labels\n",
    "transform = transforms.Compose([\n",
    "    transforms.Resize((256, 256)),\n",
    "    transforms.RandomHorizontalFlip(),\n",
    "    transforms.RandomRotation(15),\n",
    "    transforms.ToTensor(),\n",
    "    transforms.Normalize(mean=[0.485, 0.456, 0.406], std=[0.229, 0.224, 0.225])\n",
    "])\n"
   ]
  },
  {
   "cell_type": "code",
   "execution_count": 9,
   "metadata": {},
   "outputs": [],
   "source": [
    "# Assuming df is your DataFrame\n",
    "dataset = CustomDataset(dataframe=df, root_dir='./capture/train/', transform=transform)\n",
    "dataloader = DataLoader(dataset, batch_size=100, shuffle=True)\n"
   ]
  },
  {
   "cell_type": "code",
   "execution_count": 10,
   "metadata": {},
   "outputs": [
    {
     "data": {
      "text/plain": [
       "torch.Size([3, 256, 256])"
      ]
     },
     "execution_count": 10,
     "metadata": {},
     "output_type": "execute_result"
    }
   ],
   "source": [
    "dataloader.dataset[0][0].shape"
   ]
  },
  {
   "cell_type": "code",
   "execution_count": 11,
   "metadata": {},
   "outputs": [
    {
     "name": "stderr",
     "output_type": "stream",
     "text": [
      "c:\\Users\\aman.sa\\.conda\\envs\\pyt\\lib\\site-packages\\torchvision\\models\\_utils.py:208: UserWarning: The parameter 'pretrained' is deprecated since 0.13 and may be removed in the future, please use 'weights' instead.\n",
      "  warnings.warn(\n",
      "c:\\Users\\aman.sa\\.conda\\envs\\pyt\\lib\\site-packages\\torchvision\\models\\_utils.py:223: UserWarning: Arguments other than a weight enum or `None` for 'weights' are deprecated since 0.13 and may be removed in the future. The current behavior is equivalent to passing `weights=ResNet50_Weights.IMAGENET1K_V1`. You can also use `weights=ResNet50_Weights.DEFAULT` to get the most up-to-date weights.\n",
      "  warnings.warn(msg)\n"
     ]
    }
   ],
   "source": [
    "model = models.resnet50(pretrained=True)\n",
    "model = model.to(device)\n",
    "\n",
    "# Replace the last fully connected layer\n",
    "# Number of features depends on the model architecture\n",
    "num_features = model.fc.in_features\n",
    "model.fc = nn.Linear(num_features, 2)  # x, y, z, angle, height\n",
    "model = model.to(device)\n"
   ]
  },
  {
   "cell_type": "code",
   "execution_count": 12,
   "metadata": {},
   "outputs": [],
   "source": [
    "criterion = nn.MSELoss()\n",
    "optimizer = optim.Adam(model.parameters(), lr=0.001)\n"
   ]
  },
  {
   "cell_type": "code",
   "execution_count": 13,
   "metadata": {},
   "outputs": [
    {
     "name": "stdout",
     "output_type": "stream",
     "text": [
      "Epoch 1/20, Loss: 2.516969680786133\n",
      "Epoch 2/20, Loss: 1.892028570175171\n",
      "Epoch 3/20, Loss: 2.94075608253479\n",
      "Epoch 4/20, Loss: 2.542177677154541\n",
      "Epoch 5/20, Loss: 1.052096962928772\n",
      "Epoch 6/20, Loss: 1.047052025794983\n",
      "Epoch 7/20, Loss: 0.8226905465126038\n",
      "Epoch 8/20, Loss: 1.5843334197998047\n",
      "Epoch 9/20, Loss: 1.080967664718628\n",
      "Epoch 10/20, Loss: 0.819031298160553\n",
      "Epoch 11/20, Loss: 0.6723946332931519\n",
      "Epoch 12/20, Loss: 0.5550655126571655\n",
      "Epoch 13/20, Loss: 0.34133902192115784\n",
      "Epoch 14/20, Loss: 0.7011778950691223\n",
      "Epoch 15/20, Loss: 0.32363489270210266\n",
      "Epoch 16/20, Loss: 0.6057819724082947\n",
      "Epoch 17/20, Loss: 0.40040308237075806\n",
      "Epoch 18/20, Loss: 0.4121708273887634\n",
      "Epoch 19/20, Loss: 0.38906943798065186\n",
      "Epoch 20/20, Loss: 0.5810004472732544\n"
     ]
    }
   ],
   "source": [
    "num_epochs = 20  # You can adjust this\n",
    "for epoch in range(num_epochs):\n",
    "    for inputs, labels in dataloader:\n",
    "        inputs, labels = inputs.to(device), labels.to(device).float()\n",
    "        inputs, labels = inputs.to(device), labels.to(device)\n",
    "        optimizer.zero_grad()\n",
    "\n",
    "        outputs = model(inputs)\n",
    "        loss = criterion(outputs, labels)\n",
    "        loss.backward()\n",
    "        optimizer.step()\n",
    "\n",
    "    print(f'Epoch {epoch+1}/{num_epochs}, Loss: {loss.item()}')\n"
   ]
  },
  {
   "cell_type": "code",
   "execution_count": 90,
   "metadata": {},
   "outputs": [],
   "source": [
    "#free up the gpu\n",
    "torch.cuda.empty_cache()\n",
    "#free up dedicated memory\n",
    "del model"
   ]
  },
  {
   "cell_type": "code",
   "execution_count": 16,
   "metadata": {},
   "outputs": [],
   "source": [
    "\n",
    "model.eval()  # Set the model to evaluation mode\n",
    "\n",
    "transform = transforms.Compose([\n",
    "    transforms.Resize((256, 256)),\n",
    "    transforms.ToTensor(),\n",
    "    transforms.Normalize(mean=[0.485, 0.456, 0.406], std=[0.229, 0.224, 0.225])\n",
    "])\n",
    "\n",
    "def load_image(image_path):\n",
    "    image = Image.open(image_path)\n",
    "    image = transform(image).float()\n",
    "    image = image.unsqueeze(0)  # Add batch dimension\n",
    "    return image\n",
    "\n",
    "\n"
   ]
  },
  {
   "cell_type": "code",
   "execution_count": 24,
   "metadata": {},
   "outputs": [
    {
     "name": "stdout",
     "output_type": "stream",
     "text": [
      "Predicted camera parameters: [-4.859378 -5.093643]\n"
     ]
    }
   ],
   "source": [
    "image = load_image('./capture/testCapture/IMG_7131_94.jpg')\n",
    "device = torch.device(\"cuda:1\" if torch.cuda.is_available() else \"cpu\")\n",
    "image = image.to(device)\n",
    "with torch.no_grad():\n",
    "    prediction = model(image)\n",
    "    prediction = prediction.cpu().numpy()[0]\n",
    "print(f\"Predicted camera parameters: {prediction}\")"
   ]
  },
  {
   "cell_type": "code",
   "execution_count": null,
   "metadata": {},
   "outputs": [],
   "source": []
  }
 ],
 "metadata": {
  "kernelspec": {
   "display_name": "pyt",
   "language": "python",
   "name": "python3"
  },
  "language_info": {
   "codemirror_mode": {
    "name": "ipython",
    "version": 3
   },
   "file_extension": ".py",
   "mimetype": "text/x-python",
   "name": "python",
   "nbconvert_exporter": "python",
   "pygments_lexer": "ipython3",
   "version": "3.9.18"
  }
 },
 "nbformat": 4,
 "nbformat_minor": 2
}
