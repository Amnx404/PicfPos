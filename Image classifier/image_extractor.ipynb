{
 "cells": [
  {
   "cell_type": "markdown",
   "metadata": {},
   "source": [
    "# Hey there, welcome to the PicfPos project."
   ]
  },
  {
   "cell_type": "markdown",
   "metadata": {},
   "source": [
    "## Run the below cell to instantiate basic variables and functions."
   ]
  },
  {
   "cell_type": "code",
   "execution_count": 1,
   "metadata": {},
   "outputs": [],
   "source": [
    "import cv2\n",
    "import numpy as np\n",
    "import os\n",
    "\n",
    "def save_frame(cap, frame_idx, output_path, index):\n",
    "    cap.set(cv2.CAP_PROP_POS_FRAMES, frame_idx)\n",
    "    ret, frame = cap.read()\n",
    "    if ret:\n",
    "        cv2.imwrite(os.path.join(output_path, f'frame_{index + 1}.png'), frame)\n",
    "\n",
    "def extract_frames_with_opencv(video_path, output_path, num_images):\n",
    "    cap = cv2.VideoCapture(video_path)\n",
    "    if not cap.isOpened():\n",
    "        raise Exception(\"Error opening video file\")\n",
    "\n",
    "    total_frames = int(cap.get(cv2.CAP_PROP_FRAME_COUNT)) + 1\n",
    "    if total_frames < num_images:\n",
    "        frame_indices = np.round(np.linspace(0, total_frames - 1, num_images)).astype(int)\n",
    "    else:\n",
    "        frame_indices = np.sort(np.random.choice(np.arange(0, total_frames - 1), num_images, replace=False))\n",
    "    existing_files = 0\n",
    "    if not os.path.exists(output_path):\n",
    "        os.makedirs(output_path)\n",
    "    else:\n",
    "        existing_files = len([name for name in os.listdir(output_path) if os.path.isfile(os.path.join(output_path, name))])\n",
    "        num_images += existing_files\n",
    "\n",
    "    for i, frame_idx in enumerate(frame_indices):\n",
    "        save_frame(cap, frame_idx, output_path, i + existing_files)\n",
    "\n",
    "    cap.release()\n",
    "\n",
    "# Example usage:\n",
    "# extract_frames_with_opencv('path/to/video.mp4', 'path/to/output/folder', 10)\n"
   ]
  },
  {
   "cell_type": "markdown",
   "metadata": {},
   "source": [
    "## Video extractor from folder\n",
    "### use the below cell to set your current directory to the folder containing the video files."
   ]
  },
  {
   "cell_type": "code",
   "execution_count": 17,
   "metadata": {},
   "outputs": [
    {
     "data": {
      "text/plain": [
       "['./data/source1/a2', './data/source1/a1']"
      ]
     },
     "execution_count": 17,
     "metadata": {},
     "output_type": "execute_result"
    }
   ],
   "source": [
    "import os\n",
    "import glob\n",
    "\n",
    "\n",
    "#change the below variables according to your needs\n",
    "folder_name = './data/source1/'\n",
    "num_frames_per_video = 20\n",
    "\n",
    "\n",
    "\n",
    "\n",
    "\n",
    "#list only directories\n",
    "folders = [f for f in glob.glob(f'{folder_name}*') if os.path.isdir(f)]\n",
    "\n",
    "# folder = './input folder/'\n",
    "folders"
   ]
  },
  {
   "cell_type": "code",
   "execution_count": 18,
   "metadata": {},
   "outputs": [
    {
     "name": "stdout",
     "output_type": "stream",
     "text": [
      "['./data/source1/a2/IMG_0703.MOV']\n",
      "['./data/source1/a1/IMG_0704.MOV']\n"
     ]
    }
   ],
   "source": [
    "# print(folders)\n",
    "target_name = 'source1'\n",
    "for folder in folders:\n",
    "    videos = glob.glob(f'{folder}/*')\n",
    "    print(videos)\n",
    "    for video in videos:\n",
    "        # path_to_save after splitting the path\n",
    "        area_name = os.path.basename(folder)\n",
    "        \n",
    "        path_to_save = f'frames/{target_name}/{area_name}/'\n",
    "        if not os.path.exists(path_to_save):\n",
    "            os.makedirs(path_to_save)\n",
    "        extract_frames_with_opencv(video, path_to_save, num_frames_per_video)"
   ]
  },
  {
   "cell_type": "markdown",
   "metadata": {},
   "source": [
    "## Transfer(Copy) frames from the \"frames\" folder to the dataset for training"
   ]
  },
  {
   "cell_type": "code",
   "execution_count": 27,
   "metadata": {},
   "outputs": [
    {
     "data": {
      "text/plain": [
       "['a2', 'a1']"
      ]
     },
     "execution_count": 27,
     "metadata": {},
     "output_type": "execute_result"
    }
   ],
   "source": [
    "#input the source folder path which you want to transfer to the dataset\n",
    "folder_path = r'./frames/source1/'\n",
    "\n",
    "folders = os.listdir(folder_path)\n",
    "folders"
   ]
  },
  {
   "cell_type": "code",
   "execution_count": 29,
   "metadata": {},
   "outputs": [
    {
     "name": "stdout",
     "output_type": "stream",
     "text": [
      "20\n",
      "20\n"
     ]
    }
   ],
   "source": [
    "#convert folder_path to path\n",
    "from pathlib import Path\n",
    "folder_path = Path(folder_path)\n",
    "\n",
    "for i in folders:\n",
    "    files = os.listdir(f'{folder_path}/{i}')\n",
    "    print(len(files))\n",
    "    #increment if duplicate, copy each file to a new folder\n",
    "    target = f'./dataset/{i}'\n",
    "    target_symbol = os.path.basename(folder_path)\n",
    "    if not os.path.exists(target):\n",
    "        os.makedirs(target)\n",
    "    for j in files:\n",
    "        #if files exists in target, increment and save to target\n",
    "        count = 0\n",
    "        while os.path.exists(f'{target}/{target_symbol}_{count}.png'):\n",
    "            count += 1\n",
    "        cv2.imwrite(f'{target}/{target_symbol}_{count}.png', cv2.imread(f'{folder_path}/{i}/{j}'))\n"
   ]
  },
  {
   "cell_type": "markdown",
   "metadata": {},
   "source": [
    "# Utility Scripts\n"
   ]
  },
  {
   "cell_type": "code",
   "execution_count": 1,
   "metadata": {},
   "outputs": [],
   "source": [
    "#copy all files from s5 to c5 and rename them\n",
    "import os\n",
    "import shutil\n",
    "\n",
    "source = r'C:\\Users\\aman.sa\\Documents\\code\\PicfPos\\Image classifier\\frames\\dataset\\c5'\n",
    "target = r'C:\\Users\\aman.sa\\Documents\\code\\PicfPos\\Image classifier\\frames\\dataset\\s5'\n",
    "\n",
    "files = os.listdir(source)\n",
    "for i in files:\n",
    "    #increment if duplicate, copy each file to a new folder with the same name\n",
    "    count = 0\n",
    "    while os.path.exists(f'{target}/{i}_{count}.png'):\n",
    "        count += 1\n",
    "    shutil.copy(f'{source}/{i}', f'{target}/{i}_{count}.png')\n",
    "    \n",
    "    \n",
    "    "
   ]
  },
  {
   "cell_type": "code",
   "execution_count": 2,
   "metadata": {},
   "outputs": [],
   "source": [
    "#take a folder and then copy each file to a new folder with the same name\n",
    "import os\n",
    "import shutil\n",
    "\n",
    "source = r'C:\\Users\\aman.sa\\Documents\\code\\PicfPos\\Image classifier\\input folder\\rec'\n",
    "\n",
    "files = os.listdir(source)\n",
    "\n",
    "\n",
    "for i in files:\n",
    "    if not os.path.exists(f'{source}/{i.split(\".\")[0]}'):\n",
    "        os.makedirs(f'{source}/{i.split(\".\")[0]}')\n",
    "    shutil.copy(f'{source}/{i}', f'{source}/{i.split(\".\")[0]}/{i}')\n",
    "    "
   ]
  }
 ],
 "metadata": {
  "kernelspec": {
   "display_name": "base",
   "language": "python",
   "name": "python3"
  },
  "language_info": {
   "codemirror_mode": {
    "name": "ipython",
    "version": 3
   },
   "file_extension": ".py",
   "mimetype": "text/x-python",
   "name": "python",
   "nbconvert_exporter": "python",
   "pygments_lexer": "ipython3",
   "version": "3.11.5"
  }
 },
 "nbformat": 4,
 "nbformat_minor": 2
}
