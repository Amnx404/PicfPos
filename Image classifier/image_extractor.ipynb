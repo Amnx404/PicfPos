{
 "cells": [
  {
   "cell_type": "code",
   "execution_count": 3,
   "metadata": {},
   "outputs": [],
   "source": [
    "import cv2\n",
    "import numpy as np\n",
    "import os\n",
    "\n",
    "def save_frame(cap, frame_idx, output_path, index):\n",
    "    cap.set(cv2.CAP_PROP_POS_FRAMES, frame_idx)\n",
    "    ret, frame = cap.read()\n",
    "    if ret:\n",
    "        cv2.imwrite(os.path.join(output_path, f'frame_{index + 1}.png'), frame)\n",
    "\n",
    "def extract_frames_with_opencv(video_path, output_path, num_images):\n",
    "    cap = cv2.VideoCapture(video_path)\n",
    "    if not cap.isOpened():\n",
    "        raise Exception(\"Error opening video file\")\n",
    "\n",
    "    total_frames = int(cap.get(cv2.CAP_PROP_FRAME_COUNT)) + 1\n",
    "    if total_frames < num_images:\n",
    "        frame_indices = np.round(np.linspace(0, total_frames - 1, num_images)).astype(int)\n",
    "    else:\n",
    "        frame_indices = np.sort(np.random.choice(np.arange(0, total_frames - 1), num_images, replace=False))\n",
    "    existing_files = 0\n",
    "    if not os.path.exists(output_path):\n",
    "        os.makedirs(output_path)\n",
    "    else:\n",
    "        existing_files = len([name for name in os.listdir(output_path) if os.path.isfile(os.path.join(output_path, name))])\n",
    "        num_images += existing_files\n",
    "\n",
    "    for i, frame_idx in enumerate(frame_indices):\n",
    "        save_frame(cap, frame_idx, output_path, i + existing_files)\n",
    "\n",
    "    cap.release()\n",
    "\n",
    "# Example usage:\n",
    "# extract_frames_with_opencv('path/to/video.mp4', 'path/to/output/folder', 10)\n"
   ]
  },
  {
   "cell_type": "markdown",
   "metadata": {},
   "source": [
    "# video Extractor from folder"
   ]
  },
  {
   "cell_type": "code",
   "execution_count": 16,
   "metadata": {},
   "outputs": [
    {
     "data": {
      "text/plain": [
       "['./input folder/mks_videos3\\\\3d',\n",
       " './input folder/mks_videos3\\\\c0',\n",
       " './input folder/mks_videos3\\\\c2',\n",
       " './input folder/mks_videos3\\\\c3',\n",
       " './input folder/mks_videos3\\\\c4',\n",
       " './input folder/mks_videos3\\\\c7',\n",
       " './input folder/mks_videos3\\\\c9',\n",
       " './input folder/mks_videos3\\\\exb',\n",
       " './input folder/mks_videos3\\\\meet',\n",
       " './input folder/mks_videos3\\\\r',\n",
       " './input folder/mks_videos3\\\\sew',\n",
       " './input folder/mks_videos3\\\\wm1',\n",
       " './input folder/mks_videos3\\\\wm2']"
      ]
     },
     "execution_count": 16,
     "metadata": {},
     "output_type": "execute_result"
    }
   ],
   "source": [
    "import os\n",
    "import glob\n",
    "#list only directories\n",
    "folders = [f for f in glob.glob(r'./input folder/mks_videos3/*') if os.path.isdir(f)]\n",
    "\n",
    "# folder = './input folder/'\n",
    "folders"
   ]
  },
  {
   "cell_type": "code",
   "execution_count": 17,
   "metadata": {},
   "outputs": [
    {
     "name": "stdout",
     "output_type": "stream",
     "text": [
      "['./input folder/mks_videos3\\\\3d\\\\VID_20231130_143607.mp4']\n",
      "['./input folder/mks_videos3\\\\c0\\\\VID_20231130_144134.mp4']\n",
      "['./input folder/mks_videos3\\\\c2\\\\VID_20231130_144043.mp4']\n",
      "['./input folder/mks_videos3\\\\c3\\\\VID_20231130_143959.mp4']\n",
      "['./input folder/mks_videos3\\\\c4\\\\VID_20231130_143824.mp4', './input folder/mks_videos3\\\\c4\\\\VID_20231130_143927.mp4']\n",
      "['./input folder/mks_videos3\\\\c7\\\\VID_20231130_143345.mp4']\n",
      "['./input folder/mks_videos3\\\\c9\\\\VID_20231130_143424.mp4']\n",
      "['./input folder/mks_videos3\\\\exb\\\\VID_20231130_144241.mp4']\n",
      "['./input folder/mks_videos3\\\\meet\\\\VID_20231130_143215.mp4']\n",
      "['./input folder/mks_videos3\\\\r\\\\VID_20231130_143659.mp4']\n",
      "['./input folder/mks_videos3\\\\sew\\\\VID_20231130_143839.mp4']\n",
      "['./input folder/mks_videos3\\\\wm1\\\\VID_20231130_144445.mp4']\n",
      "['./input folder/mks_videos3\\\\wm2\\\\VID_20231130_144404.mp4']\n"
     ]
    }
   ],
   "source": [
    "# print(folders)\n",
    "target_name = 'mks_videos3'\n",
    "for folder in folders:\n",
    "    videos = glob.glob(f'{folder}/*.mp4')\n",
    "    print(videos)\n",
    "    for video in videos:\n",
    "        # from './input folder/anshika\\\\3d\\\\VID20231126114723.mp4 extract 3d\n",
    "        extracted_folder = video.split('\\\\')[1]\n",
    "        # path_to_save\n",
    "        path_to_save = f'frames/{target_name}/{folder}/'\n",
    "        if not os.path.exists(path_to_save):\n",
    "            os.makedirs(path_to_save)\n",
    "        extract_frames_with_opencv(video, path_to_save, 400)"
   ]
  },
  {
   "cell_type": "code",
   "execution_count": 51,
   "metadata": {},
   "outputs": [
    {
     "data": {
      "text/plain": [
       "['3d', 'c1', 'c3', 'c4', 'c5', 'e1', 'e2', 'exb', 'i', 'm', 'mod', 'r', 'tech']"
      ]
     },
     "execution_count": 51,
     "metadata": {},
     "output_type": "execute_result"
    }
   ],
   "source": []
  },
  {
   "cell_type": "markdown",
   "metadata": {},
   "source": [
    "# Copy video from 1 folder to dataset folder"
   ]
  },
  {
   "cell_type": "code",
   "execution_count": 18,
   "metadata": {},
   "outputs": [
    {
     "data": {
      "text/plain": [
       "['3d',\n",
       " 'c0',\n",
       " 'c2',\n",
       " 'c3',\n",
       " 'c4',\n",
       " 'c7',\n",
       " 'c9',\n",
       " 'exb',\n",
       " 'meet',\n",
       " 'r',\n",
       " 'sew',\n",
       " 'wm1',\n",
       " 'wm2']"
      ]
     },
     "execution_count": 18,
     "metadata": {},
     "output_type": "execute_result"
    }
   ],
   "source": [
    "folder_path = r'C:\\Users\\aman.sa\\Documents\\code\\PicfPos\\Image classifier\\frames\\mks_videos3\\input folder\\mks_videos3'\n",
    "folders = os.listdir(folder_path)\n",
    "folders"
   ]
  },
  {
   "cell_type": "code",
   "execution_count": 19,
   "metadata": {},
   "outputs": [
    {
     "name": "stdout",
     "output_type": "stream",
     "text": [
      "398\n",
      "400\n",
      "397\n",
      "399\n",
      "795\n",
      "400\n",
      "399\n",
      "397\n",
      "400\n",
      "397\n",
      "400\n",
      "397\n",
      "397\n"
     ]
    }
   ],
   "source": [
    "for i in folders:\n",
    "    files = os.listdir(f'{folder_path}/{i}')\n",
    "    print(len(files))\n",
    "    #increment if duplicate, copy each file to a new folder\n",
    "    target = f'C:/Users/aman.sa/Documents/code/PicfPos/Image classifier/frames/dataset/{i}'\n",
    "    target_symbol = 'mks_videos3'\n",
    "    if not os.path.exists(target):\n",
    "        os.makedirs(target)\n",
    "    for j in files:\n",
    "        #if files exists in target, increment and save to target\n",
    "        count = 0\n",
    "        while os.path.exists(f'{target}/{target_symbol}_{count}.png'):\n",
    "            count += 1\n",
    "        cv2.imwrite(f'{target}/{target_symbol}_{count}.png', cv2.imread(f'{folder_path}/{i}/{j}'))\n"
   ]
  },
  {
   "cell_type": "code",
   "execution_count": 12,
   "metadata": {},
   "outputs": [
    {
     "data": {
      "text/plain": [
       "['3d',\n",
       " 'c0',\n",
       " 'c1',\n",
       " 'c10',\n",
       " 'c2',\n",
       " 'c3',\n",
       " 'c4',\n",
       " 'c6',\n",
       " 'c8',\n",
       " 'e1',\n",
       " 'e2',\n",
       " 'ent',\n",
       " 'i',\n",
       " 'm',\n",
       " 'mod',\n",
       " 'r',\n",
       " 's5',\n",
       " 'sew',\n",
       " 'sv']"
      ]
     },
     "execution_count": 12,
     "metadata": {},
     "output_type": "execute_result"
    }
   ],
   "source": [
    "folders"
   ]
  },
  {
   "cell_type": "markdown",
   "metadata": {},
   "source": [
    "# Utility Scripts\n"
   ]
  },
  {
   "cell_type": "code",
   "execution_count": 1,
   "metadata": {},
   "outputs": [],
   "source": [
    "#copy all files from s5 to c5 and rename them\n",
    "import os\n",
    "import shutil\n",
    "\n",
    "source = r'C:\\Users\\aman.sa\\Documents\\code\\PicfPos\\Image classifier\\frames\\dataset\\c5'\n",
    "target = r'C:\\Users\\aman.sa\\Documents\\code\\PicfPos\\Image classifier\\frames\\dataset\\s5'\n",
    "\n",
    "files = os.listdir(source)\n",
    "for i in files:\n",
    "    #increment if duplicate, copy each file to a new folder with the same name\n",
    "    count = 0\n",
    "    while os.path.exists(f'{target}/{i}_{count}.png'):\n",
    "        count += 1\n",
    "    shutil.copy(f'{source}/{i}', f'{target}/{i}_{count}.png')\n",
    "    \n",
    "    \n",
    "    "
   ]
  },
  {
   "cell_type": "code",
   "execution_count": 2,
   "metadata": {},
   "outputs": [],
   "source": [
    "#take a folder and then copy each file to a new folder with the same name\n",
    "import os\n",
    "import shutil\n",
    "\n",
    "source = r'C:\\Users\\aman.sa\\Documents\\code\\PicfPos\\Image classifier\\input folder\\rec'\n",
    "\n",
    "files = os.listdir(source)\n",
    "\n",
    "\n",
    "for i in files:\n",
    "    if not os.path.exists(f'{source}/{i.split(\".\")[0]}'):\n",
    "        os.makedirs(f'{source}/{i.split(\".\")[0]}')\n",
    "    shutil.copy(f'{source}/{i}', f'{source}/{i.split(\".\")[0]}/{i}')\n",
    "    "
   ]
  }
 ],
 "metadata": {
  "kernelspec": {
   "display_name": "base",
   "language": "python",
   "name": "python3"
  },
  "language_info": {
   "codemirror_mode": {
    "name": "ipython",
    "version": 3
   },
   "file_extension": ".py",
   "mimetype": "text/x-python",
   "name": "python",
   "nbconvert_exporter": "python",
   "pygments_lexer": "ipython3",
   "version": "3.9.18"
  }
 },
 "nbformat": 4,
 "nbformat_minor": 2
}
