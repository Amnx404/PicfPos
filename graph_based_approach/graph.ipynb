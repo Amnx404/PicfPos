{
 "cells": [
  {
   "cell_type": "code",
   "execution_count": 5,
   "metadata": {},
   "outputs": [],
   "source": [
    "import networkx as nx\n",
    "import matplotlib.pyplot as plt\n",
    "\n",
    "# Define the edges with their labels\n",
    "edges_with_labels = {\n",
    "    ('WM1', 'WM2'): 90,\n",
    "    ('WM2', 'WM1'): 270,\n",
    "    ('EX', 'ST'): 90,\n",
    "    ('ST', 'EX'): 270,\n",
    "    ('EX', 'CO'): 90,\n",
    "    ('CO', 'EX'): 270,\n",
    "    ('ST', 'MOD'): 90,\n",
    "    ('MOD', 'ST'): 270,\n",
    "    ('C0', 'C5'): 90,\n",
    "    ('C5', 'C0'): 270,\n",
    "    ('MH', 'C1'): 90,\n",
    "    ('C1', 'MH'): 270,\n",
    "    ('C1', 'C2'): 90,\n",
    "    ('C2', 'C1'): 270,\n",
    "    ('C5', 'SV'): 90,\n",
    "    ('SV', 'C5'): 270,\n",
    "    ('E1', 'E2'): 90,\n",
    "    ('E2', 'E1'): 270,\n",
    "    ('E2', 'M'): 90,\n",
    "    ('M', 'E2'): 270,\n",
    "    ('I', 'C6'): 90,\n",
    "    ('C6', 'I'): 270,\n",
    "    ('C2', 'C3'): 90,\n",
    "    ('C3', 'C2'): 270,\n",
    "    ('DR', 'EXB'): 90,\n",
    "    ('EXB', 'DR'): 270,\n",
    "    ('C3', 'C4'): 90,\n",
    "    ('C4', 'C3'): 270,\n",
    "    ('C4', 'C1O'): 90,\n",
    "    ('C1O', 'C4'): 270,\n",
    "    ('EXB', 'C9'): 90,\n",
    "    ('C9', 'EXB'): 270,\n",
    "    ('C10', 'ENT'): 90,\n",
    "    ('ENT', 'C10'): 270,\n",
    "    ('C7', 'MEET'): 90,\n",
    "    ('MEET', 'C7'): 270,\n",
    "    ('R', '3D'): 90,\n",
    "    ('3D', 'R'): 270,\n",
    "    ('C0', 'WM2'): 0,\n",
    "    ('WM2', 'C0'): 180,\n",
    "    ('MOD', 'C1'): 0,\n",
    "    ('C1', 'MOD'): 180,\n",
    "    ('C5', 'E1'): 0,\n",
    "    ('E1', 'C5'): 180,\n",
    "    ('DR', 'C8'): 0,\n",
    "    ('C8', 'DR'): 180,\n",
    "    ('C8', 'C2'): 0,\n",
    "    ('C2', 'C8'): 180,\n",
    "    ('C2', 'C6'): 0,\n",
    "    ('C6', 'C2'): 180,\n",
    "    ('C6', 'E2'): 0,\n",
    "    ('E2', 'C6'): 180,\n",
    "    ('C8', 'C2'): 0,\n",
    "    ('C2', 'C8'): 180,\n",
    "    ('C2', 'C6'): 0,\n",
    "    ('C6', 'C2'): 180,\n",
    "    ('C3', 'TEC'): 0,\n",
    "    ('TEC', 'C3'): 180,\n",
    "    ('R', 'C3'): 0,\n",
    "    ('C3', 'R'): 180,\n",
    "    ('C4', 'SEW'): 0,\n",
    "    ('SEW', 'C4'): 180,\n",
    "    ('3D', 'C4'): 0,\n",
    "    ('C4', '3D'): 180,\n",
    "    ('EXB', '3D'): 0,\n",
    "    ('3D', 'EXB'): 180,\n",
    "    ('C7', 'C10'): 0,\n",
    "    ('C10', 'C7'): 180,\n",
    "    ('C9', 'C7'): 0,\n",
    "    ('C7', 'C9'): 180,\n",
    "    ('CAF', 'ENT'): 0,\n",
    "    ('ENT', 'CAF'): 180,\n",
    "}\n",
    "\n",
    "# Create a directed graph\n",
    "G_directional_weights = nx.DiGraph()\n",
    "\n",
    "# Add edges to the graph\n",
    "for edge, label in edges_with_labels.items():\n",
    "    G_directional_weights.add_edge(edge[0], edge[1], label=label)\n",
    "\n",
    "# Draw the graph\n",
    "# pos = nx.spring_layout(G)  # positions for all nodes\n",
    "# nx.draw(G, pos, with_labels=True, node_size=700, node_color=\"lightblue\", font_size=10, font_weight='bold', arrowstyle='->', arrowsize=15)\n",
    "# edge_labels = nx.get_edge_attributes(G, 'label')\n",
    "# nx.draw_networkx_edge_labels(G, pos, edge_labels=edge_labels)\n",
    "\n",
    "# plt.title(\"Unidirectional Graph with Labels\")\n",
    "# plt.show()\n"
   ]
  },
  {
   "cell_type": "code",
   "execution_count": 7,
   "metadata": {},
   "outputs": [
    {
     "data": {
      "text/plain": [
       "(0, 180)"
      ]
     },
     "execution_count": 7,
     "metadata": {},
     "output_type": "execute_result"
    }
   ],
   "source": [
    "weight_caf_to_ent = G_directional_weights.get_edge_data('CAF', 'ENT')['label']\n",
    "weight_ent_to_caf = G_directional_weights.get_edge_data('ENT', 'CAF')['label']\n",
    "\n",
    "weight_caf_to_ent, weight_ent_to_caf"
   ]
  },
  {
   "cell_type": "code",
   "execution_count": 9,
   "metadata": {},
   "outputs": [
    {
     "data": {
      "text/plain": [
       "['CAF', 'ENT']"
      ]
     },
     "execution_count": 9,
     "metadata": {},
     "output_type": "execute_result"
    }
   ],
   "source": [
    "def find_shortest_path_bfs(graph, start_node, end_node):\n",
    "    \"\"\"\n",
    "    Find the shortest path between start_node and end_node in a graph using a BFS-based approach.\n",
    "    The path is the shortest in terms of the number of nodes traversed.\n",
    "\n",
    "    :param graph: NetworkX graph\n",
    "    :param start_node: starting node\n",
    "    :param end_node: ending node\n",
    "    :return: shortest path as a list of nodes (empty list if no path exists)\n",
    "    \"\"\"\n",
    "    try:\n",
    "        # Create a BFS tree starting from the start_node\n",
    "        bfs_tree = nx.bfs_tree(graph, source=start_node)\n",
    "\n",
    "        # Compute the shortest path in the BFS tree\n",
    "        path = nx.shortest_path(bfs_tree, source=start_node, target=end_node)\n",
    "        return path\n",
    "    except (nx.NetworkXNoPath, KeyError):\n",
    "        # Return an empty list if no path exists or if the nodes are not in the graph\n",
    "        return []\n",
    "\n",
    "# Example usage of the function\n",
    "# Find the shortest path from 'CAF' to 'ENT'\n",
    "path_caf_to_ent = find_shortest_path_bfs(G_directional_weights, 'CAF', 'ENT')\n",
    "path_caf_to_ent\n",
    "\n"
   ]
  }
 ],
 "metadata": {
  "kernelspec": {
   "display_name": "base",
   "language": "python",
   "name": "python3"
  },
  "language_info": {
   "codemirror_mode": {
    "name": "ipython",
    "version": 3
   },
   "file_extension": ".py",
   "mimetype": "text/x-python",
   "name": "python",
   "nbconvert_exporter": "python",
   "pygments_lexer": "ipython3",
   "version": "3.10.10"
  }
 },
 "nbformat": 4,
 "nbformat_minor": 2
}
